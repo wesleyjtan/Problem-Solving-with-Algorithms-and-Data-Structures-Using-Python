{
 "cells": [
  {
   "cell_type": "code",
   "execution_count": 1,
   "metadata": {},
   "outputs": [],
   "source": [
    "class Stack:\n",
    "    def __init__(self):\n",
    "        self.items = []\n",
    "    \n",
    "    def is_empty(self):\n",
    "        return self.items == []\n",
    "    \n",
    "    def push(self, item):\n",
    "        self.items.append(item)\n",
    "    \n",
    "    def pop(self):\n",
    "        return self.items.pop()\n",
    "    \n",
    "    def peek(self):\n",
    "        return self.items[len(self.items)-1]\n",
    "    \n",
    "    def size(self):\n",
    "        return len(self.items)"
   ]
  },
  {
   "cell_type": "markdown",
   "metadata": {},
   "source": [
    "### Divide by 2"
   ]
  },
  {
   "cell_type": "code",
   "execution_count": 10,
   "metadata": {},
   "outputs": [],
   "source": [
    "def divide_by_2(dec_num):\n",
    "    rem_stack = Stack()\n",
    "    \n",
    "    while dec_num > 0:\n",
    "        rem  = dec_num % 2\n",
    "        rem_stack.push(rem)\n",
    "        dec_num = dec_num // 2\n",
    "    \n",
    "    bin_string = \"\"\n",
    "    while not rem_stack.is_empty():\n",
    "        bin_string = bin_string + str(rem_stack.pop())\n",
    "        \n",
    "    return bin_string"
   ]
  },
  {
   "cell_type": "code",
   "execution_count": 13,
   "metadata": {},
   "outputs": [
    {
     "data": {
      "text/plain": [
       "'11101001'"
      ]
     },
     "execution_count": 13,
     "metadata": {},
     "output_type": "execute_result"
    }
   ],
   "source": [
    "divide_by_2(233)"
   ]
  },
  {
   "cell_type": "markdown",
   "metadata": {},
   "source": [
    "### Divide by Base"
   ]
  },
  {
   "cell_type": "code",
   "execution_count": 17,
   "metadata": {},
   "outputs": [
    {
     "name": "stdout",
     "output_type": "stream",
     "text": [
      "11001\n",
      "9FB\n"
     ]
    }
   ],
   "source": [
    "def base_converter(dec_num, base):\n",
    "    digits = \"0123456789ABCDEF\"\n",
    "    \n",
    "    rem_stack = Stack()\n",
    "    \n",
    "    while dec_num > 0:\n",
    "        rem = dec_num % base\n",
    "        rem_stack.push(rem)\n",
    "        dec_num = dec_num // base\n",
    "        \n",
    "    new_string = \"\"\n",
    "    while not rem_stack.is_empty():\n",
    "        new_string = new_string + digits[rem_stack.pop()]\n",
    "        \n",
    "    return new_string\n",
    "\n",
    "print(base_converter(25, 2))\n",
    "print(base_converter(2555, 16))"
   ]
  },
  {
   "cell_type": "code",
   "execution_count": null,
   "metadata": {},
   "outputs": [],
   "source": []
  },
  {
   "cell_type": "code",
   "execution_count": null,
   "metadata": {},
   "outputs": [],
   "source": []
  },
  {
   "cell_type": "code",
   "execution_count": null,
   "metadata": {},
   "outputs": [],
   "source": []
  }
 ],
 "metadata": {
  "kernelspec": {
   "display_name": "Python 3",
   "language": "python",
   "name": "python3"
  },
  "language_info": {
   "codemirror_mode": {
    "name": "ipython",
    "version": 3
   },
   "file_extension": ".py",
   "mimetype": "text/x-python",
   "name": "python",
   "nbconvert_exporter": "python",
   "pygments_lexer": "ipython3",
   "version": "3.6.4"
  }
 },
 "nbformat": 4,
 "nbformat_minor": 2
}
