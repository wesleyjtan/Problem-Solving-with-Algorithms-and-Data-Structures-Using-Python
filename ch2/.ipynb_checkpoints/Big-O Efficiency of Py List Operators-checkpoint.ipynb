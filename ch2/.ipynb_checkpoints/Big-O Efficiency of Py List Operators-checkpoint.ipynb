{
 "cells": [
  {
   "cell_type": "code",
   "execution_count": 5,
   "metadata": {},
   "outputs": [],
   "source": [
    "def test1(): # concatenate using for loop\n",
    "    l = []\n",
    "    for i in range(1000):\n",
    "        l = l + [i]\n",
    "\n",
    "def test2(): # append using for loop\n",
    "    l = []\n",
    "    for i in range(1000):\n",
    "        l.append(i)\n",
    "        \n",
    "def test3():  # using list comprehension\n",
    "    l = [i for i in range(1000)]\n",
    "\n",
    "def test4(): # using range function wrapped by call to list constructor\n",
    "    l = list(range(1000))"
   ]
  },
  {
   "cell_type": "code",
   "execution_count": 6,
   "metadata": {},
   "outputs": [
    {
     "name": "stdout",
     "output_type": "stream",
     "text": [
      "concat  1.074878224000713 milliseconds\n",
      "append  0.06379395200019644 milliseconds\n",
      "comprehension  0.029098252000039793 milliseconds\n",
      "list range  0.013317466000444256 milliseconds\n"
     ]
    }
   ],
   "source": [
    "# Import the timeit module\n",
    "import timeit\n",
    "# Import the Timer class defined in the module\n",
    "from timeit import Timer\n",
    "# If the above line is excluded, you need to replace Timer with timeit.Timer when defining a Timer object\n",
    "t1 = Timer(\"test1()\", \"from __main__ import test1\")\n",
    "print(\"concat \",t1.timeit(number=1000), \"milliseconds\")\n",
    "t2 = Timer(\"test2()\", \"from __main__ import test2\")\n",
    "print(\"append \",t2.timeit(number=1000), \"milliseconds\")\n",
    "t3 = Timer(\"test3()\", \"from __main__ import test3\")\n",
    "print(\"comprehension \",t3.timeit(number=1000), \"milliseconds\")\n",
    "t4 = Timer(\"test4()\", \"from __main__ import test4\")\n",
    "print(\"list range \",t4.timeit(number=1000), \"milliseconds\")"
   ]
  },
  {
   "cell_type": "code",
   "execution_count": 9,
   "metadata": {},
   "outputs": [
    {
     "data": {
      "text/plain": [
       "1.7188193609999871"
      ]
     },
     "execution_count": 9,
     "metadata": {},
     "output_type": "execute_result"
    }
   ],
   "source": [
    "pop_zero = Timer(\"x.pop(0)\", \"from __main__ import x\")\n",
    "pop_end = Timer(\"x.pop()\", \"from __main__ import x\")\n",
    "\n",
    "# pop from beginning of list\n",
    "x = list(range(2000000))\n",
    "pop_zero.timeit(number=1000)"
   ]
  },
  {
   "cell_type": "code",
   "execution_count": 10,
   "metadata": {},
   "outputs": [
    {
     "data": {
      "text/plain": [
       "0.0003161430358886719"
      ]
     },
     "execution_count": 10,
     "metadata": {},
     "output_type": "execute_result"
    }
   ],
   "source": [
    "# pop from end of list\n",
    "x = list(range(2000000))\n",
    "pop_end.timeit(number=1000)\n",
    "0.0003161430358886719"
   ]
  },
  {
   "cell_type": "code",
   "execution_count": 16,
   "metadata": {},
   "outputs": [
    {
     "name": "stdout",
     "output_type": "stream",
     "text": [
      "pop(0) pop()\n",
      "        0.00003,         0.00001\n",
      "        0.00004,         0.00001\n",
      "        0.00004,         0.00001\n",
      "        0.00010,         0.00001\n",
      "        0.00014,         0.00001\n",
      "        0.00016,         0.00001\n",
      "        0.00020,         0.00001\n",
      "        0.00021,         0.00001\n",
      "        0.00024,         0.00001\n",
      "        0.00027,         0.00001\n"
     ]
    }
   ],
   "source": [
    "pop_zero = Timer(\"x.pop(0)\", \"from __main__ import x\")\n",
    "pop_end = Timer(\"x.pop()\", \"from __main__ import x\")\n",
    "print(\"pop(0) pop()\")\n",
    "\n",
    "for i in range(1000,10001,1000):\n",
    "    x = list(range(i))\n",
    "    pt = pop_end.timeit(number=100)\n",
    "    x = list(range(i))\n",
    "    pz = pop_zero.timeit(number=100)\n",
    "    print(\"%15.5f, %15.5f\" %(pz,pt))"
   ]
  }
 ],
 "metadata": {
  "kernelspec": {
   "display_name": "Python 3",
   "language": "python",
   "name": "python3"
  },
  "language_info": {
   "codemirror_mode": {
    "name": "ipython",
    "version": 3
   },
   "file_extension": ".py",
   "mimetype": "text/x-python",
   "name": "python",
   "nbconvert_exporter": "python",
   "pygments_lexer": "ipython3",
   "version": "3.6.4"
  }
 },
 "nbformat": 4,
 "nbformat_minor": 2
}
