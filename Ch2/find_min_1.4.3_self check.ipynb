{
 "cells": [
  {
   "cell_type": "code",
   "execution_count": 66,
   "metadata": {},
   "outputs": [],
   "source": [
    "import time\n",
    "from random import randrange\n",
    "\n",
    "def find_min_nSquared(given_list):\n",
    "    for i in alist: # first iteration over entire list\n",
    "        min_check = True\n",
    "        for j in alist: # second iteration over entire list\n",
    "            if i > j:\n",
    "                min_check = False\n",
    "        if min_check:\n",
    "            list_min = i\n",
    "    return list_min\n",
    "\n",
    "\n",
    "def find_min_n(given_list):\n",
    "    list_min = given_list[0] # use first entry in list\n",
    "    for i in alist:\n",
    "        if i < list_min:\n",
    "            list_min = i\n",
    "    return list_min"
   ]
  },
  {
   "cell_type": "code",
   "execution_count": 67,
   "metadata": {},
   "outputs": [
    {
     "name": "stdout",
     "output_type": "stream",
     "text": [
      "14535\n",
      "size: 1 time: 0.000080\n",
      "14595\n",
      "size: 11 time: 0.000028\n",
      "2701\n",
      "size: 21 time: 0.000028\n",
      "437\n",
      "size: 31 time: 0.000029\n",
      "2007\n",
      "size: 41 time: 0.000052\n",
      "925\n",
      "size: 51 time: 0.000042\n",
      "286\n",
      "size: 61 time: 0.000186\n",
      "238\n",
      "size: 71 time: 0.000019\n",
      "122\n",
      "size: 81 time: 0.000019\n",
      "4115\n",
      "size: 91 time: 0.000018\n"
     ]
    }
   ],
   "source": [
    "for listSize in range(1,101,10):    \n",
    "    alist = [randrange(100000) for x in range(listSize)] # create a new list is size(listSize)\n",
    "    start = time.time()\n",
    "    print(find_min_n(alist)) # print min number in list\n",
    "    end = time.time()\n",
    "    print(\"size: %d time: %f\" % (listSize, end-start))"
   ]
  },
  {
   "cell_type": "code",
   "execution_count": 68,
   "metadata": {},
   "outputs": [
    {
     "name": "stdout",
     "output_type": "stream",
     "text": [
      "81728\n",
      "size: 1 time: 0.000260\n",
      "426\n",
      "size: 11 time: 0.000049\n",
      "2024\n",
      "size: 21 time: 0.000072\n",
      "2387\n",
      "size: 31 time: 0.000109\n",
      "1648\n",
      "size: 41 time: 0.000165\n",
      "723\n",
      "size: 51 time: 0.000234\n",
      "1327\n",
      "size: 61 time: 0.000339\n",
      "568\n",
      "size: 71 time: 0.000418\n",
      "462\n",
      "size: 81 time: 0.000532\n",
      "3147\n",
      "size: 91 time: 0.000379\n"
     ]
    }
   ],
   "source": [
    "for listSize2 in range(1,101,10):\n",
    "    alist = [randrange(100000) for x in range(listSize2)]\n",
    "    start = time.time()\n",
    "    print(find_min_nSquared(alist))\n",
    "    end = time.time()\n",
    "    print(\"size: %d time: %f\" % (listSize2, end-start))"
   ]
  }
 ],
 "metadata": {
  "kernelspec": {
   "display_name": "Python 3",
   "language": "python",
   "name": "python3"
  },
  "language_info": {
   "codemirror_mode": {
    "name": "ipython",
    "version": 3
   },
   "file_extension": ".py",
   "mimetype": "text/x-python",
   "name": "python",
   "nbconvert_exporter": "python",
   "pygments_lexer": "ipython3",
   "version": "3.6.4"
  }
 },
 "nbformat": 4,
 "nbformat_minor": 2
}
