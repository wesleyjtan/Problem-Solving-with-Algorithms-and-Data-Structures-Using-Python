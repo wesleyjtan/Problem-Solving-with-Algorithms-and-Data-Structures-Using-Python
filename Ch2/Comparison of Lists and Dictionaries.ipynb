{
 "cells": [
  {
   "cell_type": "code",
   "execution_count": 4,
   "metadata": {},
   "outputs": [
    {
     "name": "stdout",
     "output_type": "stream",
     "text": [
      "100,     0.001,     0.001\n",
      "1100,     0.007,     0.001\n",
      "2100,     0.013,     0.001\n",
      "3100,     0.019,     0.001\n",
      "4100,     0.024,     0.001\n",
      "5100,     0.031,     0.001\n",
      "6100,     0.035,     0.001\n",
      "7100,     0.040,     0.001\n",
      "8100,     0.045,     0.001\n",
      "9100,     0.051,     0.001\n"
     ]
    }
   ],
   "source": [
    "import timeit\n",
    "import random\n",
    "\n",
    "for i in range(100,10001,1000):\n",
    "    t = timeit.Timer(\"random.randrange(%d) in x\"%i, \"from __main__ import random,x\")\n",
    "    x = list(range(i))\n",
    "    lst_time = t.timeit(number=1000)\n",
    "    x = {j:None for j in range(i)}\n",
    "    d_time = t.timeit(number=1000)\n",
    "    print(\"%d,%10.3f,%10.3f\" % (i, lst_time, d_time))"
   ]
  }
 ],
 "metadata": {
  "kernelspec": {
   "display_name": "Python 3",
   "language": "python",
   "name": "python3"
  },
  "language_info": {
   "codemirror_mode": {
    "name": "ipython",
    "version": 3
   },
   "file_extension": ".py",
   "mimetype": "text/x-python",
   "name": "python",
   "nbconvert_exporter": "python",
   "pygments_lexer": "ipython3",
   "version": "3.6.4"
  }
 },
 "nbformat": 4,
 "nbformat_minor": 2
}
