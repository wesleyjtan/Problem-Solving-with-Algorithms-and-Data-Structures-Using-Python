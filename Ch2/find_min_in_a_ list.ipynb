{
 "cells": [
  {
   "cell_type": "code",
   "execution_count": 45,
   "metadata": {},
   "outputs": [],
   "source": [
    "import time\n",
    "from random import randrange\n",
    "\n",
    "def find_min_nSquared(alist):\n",
    "    overallmin = alist[0]\n",
    "    for i in alist:\n",
    "        issmallest = True\n",
    "        for j in alist:\n",
    "            if i > j:\n",
    "                issmallest = False\n",
    "        if issmallest:\n",
    "            overallmin = i\n",
    "    return overallmin\n",
    "\n",
    "\n",
    "def find_min_n(alist):\n",
    "    minsofar = alist[0]\n",
    "    for i in alist:\n",
    "        if i < minsofar:\n",
    "            minsofar = i\n",
    "    return minsofar"
   ]
  },
  {
   "cell_type": "code",
   "execution_count": 49,
   "metadata": {},
   "outputs": [
    {
     "name": "stdout",
     "output_type": "stream",
     "text": [
      "52354\n",
      "size: 1 time: 0.000146\n",
      "2713\n",
      "size: 11 time: 0.000041\n",
      "480\n",
      "size: 21 time: 0.000027\n",
      "3275\n",
      "size: 31 time: 0.000028\n",
      "2413\n",
      "size: 41 time: 0.000028\n",
      "430\n",
      "size: 51 time: 0.000029\n",
      "924\n",
      "size: 61 time: 0.000159\n",
      "599\n",
      "size: 71 time: 0.000021\n",
      "2218\n",
      "size: 81 time: 0.000018\n",
      "1493\n",
      "size: 91 time: 0.000024\n"
     ]
    }
   ],
   "source": [
    "for listSize in range(1,101,10):    \n",
    "    alist = [randrange(100000) for x in range(listSize)] # create a new list is size(listSize)\n",
    "    start = time.time()\n",
    "    print(find_min_n(alist)) # print min number in list\n",
    "    end = time.time()\n",
    "    print(\"size: %d time: %f\" % (listSize, end-start))"
   ]
  },
  {
   "cell_type": "code",
   "execution_count": 50,
   "metadata": {},
   "outputs": [
    {
     "name": "stdout",
     "output_type": "stream",
     "text": [
      "49651\n",
      "size: 1 time: 0.000088\n",
      "10173\n",
      "size: 11 time: 0.000046\n",
      "2071\n",
      "size: 21 time: 0.000071\n",
      "1255\n",
      "size: 31 time: 0.000111\n",
      "975\n",
      "size: 41 time: 0.000173\n",
      "5893\n",
      "size: 51 time: 0.000266\n",
      "4018\n",
      "size: 61 time: 0.000318\n",
      "170\n",
      "size: 71 time: 0.000430\n",
      "67\n",
      "size: 81 time: 0.000536\n",
      "1642\n",
      "size: 91 time: 0.000674\n"
     ]
    }
   ],
   "source": [
    "for listSize2 in range(1,101,10):\n",
    "    alist = [randrange(100000) for x in range(listSize2)]\n",
    "    start = time.time()\n",
    "    print(find_min_nSquared(alist))\n",
    "    end = time.time()\n",
    "    print(\"size: %d time: %f\" % (listSize2, end-start))"
   ]
  }
 ],
 "metadata": {
  "kernelspec": {
   "display_name": "Python 3",
   "language": "python",
   "name": "python3"
  },
  "language_info": {
   "codemirror_mode": {
    "name": "ipython",
    "version": 3
   },
   "file_extension": ".py",
   "mimetype": "text/x-python",
   "name": "python",
   "nbconvert_exporter": "python",
   "pygments_lexer": "ipython3",
   "version": "3.6.4"
  }
 },
 "nbformat": 4,
 "nbformat_minor": 2
}
