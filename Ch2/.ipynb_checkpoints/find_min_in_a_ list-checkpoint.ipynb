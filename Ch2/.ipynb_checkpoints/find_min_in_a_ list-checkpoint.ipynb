{
 "cells": [
  {
   "cell_type": "code",
   "execution_count": 2,
   "metadata": {},
   "outputs": [],
   "source": [
    "import time\n",
    "from random import randrange\n",
    "\n",
    "myList1 = [4,5,2,1,6,7,8,9,]\n",
    "myList2 = [0,1,2,3,4,5,6,7,8]\n",
    "\n",
    "def findMin(alist):\n",
    "    overallmin = alist[0]\n",
    "    for i in alist:\n",
    "        issmallest = True\n",
    "        for j in alist:\n",
    "            if i > j:\n",
    "                issmallest = False\n",
    "        if issmallest:\n",
    "            overallmin = i\n",
    "    return overallmin\n",
    "\n",
    "\n",
    "def findMin2(alist):\n",
    "    minsofar = alist[0]\n",
    "    for i in alist:\n",
    "        if i < minsofar:\n",
    "            minsofar = i\n",
    "    return minsofar"
   ]
  },
  {
   "cell_type": "code",
   "execution_count": 42,
   "metadata": {},
   "outputs": [
    {
     "name": "stdout",
     "output_type": "stream",
     "text": [
      "19919\n",
      "size: 1 time: 0.000399\n",
      "9853\n",
      "size: 11 time: 0.000085\n",
      "6794\n",
      "size: 21 time: 0.000132\n",
      "1890\n",
      "size: 31 time: 0.000210\n",
      "1900\n",
      "size: 41 time: 0.000338\n",
      "1750\n",
      "size: 51 time: 0.000289\n",
      "2422\n",
      "size: 61 time: 0.000212\n",
      "1100\n",
      "size: 71 time: 0.000270\n",
      "448\n",
      "size: 81 time: 0.000372\n",
      "417\n",
      "size: 91 time: 0.000455\n"
     ]
    }
   ],
   "source": [
    "# for listSize in range(1000,10001,1000):\n",
    "for listSize in range(1,101,10):    \n",
    "    alist = [randrange(100000) for x in range(listSize)] # create a new list is size(listSize)\n",
    "    start = time.time()\n",
    "    print(findMin(alist)) # print min number in list\n",
    "    end = time.time()\n",
    "    print(\"size: %d time: %f\" % (listSize, end-start))"
   ]
  },
  {
   "cell_type": "code",
   "execution_count": null,
   "metadata": {},
   "outputs": [],
   "source": [
    "for listSize2 in range(1000,10001,1000):\n",
    "    alist = [randrange(100000) for x in range(listSize2)]\n",
    "    start = time.time()\n",
    "    print(findMin2(alist))\n",
    "    end = time.time()\n",
    "print(\"size: %d time: %f\" % (listSize2, end-start))"
   ]
  },
  {
   "cell_type": "code",
   "execution_count": 9,
   "metadata": {},
   "outputs": [
    {
     "name": "stdout",
     "output_type": "stream",
     "text": [
      "[0]\n",
      "[1, 0]\n",
      "[0, 1, 0]\n",
      "[0, 0, 1, 1]\n"
     ]
    }
   ],
   "source": [
    "for listSize in range(1,5):\n",
    "    alist = [randrange(2) for x in range(listSize)]\n",
    "    print(alist)"
   ]
  },
  {
   "cell_type": "code",
   "execution_count": 35,
   "metadata": {},
   "outputs": [
    {
     "name": "stdout",
     "output_type": "stream",
     "text": [
      "3\n"
     ]
    }
   ],
   "source": [
    "print(randrange(5))"
   ]
  }
 ],
 "metadata": {
  "kernelspec": {
   "display_name": "Python 3",
   "language": "python",
   "name": "python3"
  },
  "language_info": {
   "codemirror_mode": {
    "name": "ipython",
    "version": 3
   },
   "file_extension": ".py",
   "mimetype": "text/x-python",
   "name": "python",
   "nbconvert_exporter": "python",
   "pygments_lexer": "ipython3",
   "version": "3.6.4"
  }
 },
 "nbformat": 4,
 "nbformat_minor": 2
}
