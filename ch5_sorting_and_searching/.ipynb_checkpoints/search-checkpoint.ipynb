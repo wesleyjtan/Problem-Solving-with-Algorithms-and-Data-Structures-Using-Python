{
 "cells": [
  {
   "cell_type": "markdown",
   "metadata": {},
   "source": [
    "### Sequential Search"
   ]
  },
  {
   "cell_type": "code",
   "execution_count": 13,
   "metadata": {},
   "outputs": [
    {
     "name": "stdout",
     "output_type": "stream",
     "text": [
      "False\n",
      "True\n"
     ]
    }
   ],
   "source": [
    "# O(n)\n",
    "def sequential_search(a_list, item):\n",
    "    pos = 0\n",
    "    found = False\n",
    "    \n",
    "    while pos < len(a_list) and not found:\n",
    "        if a_list[pos] == item:\n",
    "            found = True\n",
    "        else:\n",
    "            pos = pos + 1\n",
    "    return found\n",
    "\n",
    "test_list = [1, 2, 32, 8, 17, 19, 42, 13, 0]\n",
    "print(sequential_search(test_list, 3))\n",
    "print(sequential_search(test_list, 13))\n",
    "    "
   ]
  },
  {
   "cell_type": "markdown",
   "metadata": {},
   "source": [
    "### Ordered Sequential Search"
   ]
  },
  {
   "cell_type": "code",
   "execution_count": 14,
   "metadata": {},
   "outputs": [
    {
     "name": "stdout",
     "output_type": "stream",
     "text": [
      "False\n",
      "True\n"
     ]
    }
   ],
   "source": [
    "# O(n)\n",
    "def ordered_sequential_search(a_list, item):\n",
    "    pos = 0\n",
    "    found = False\n",
    "    stop = False\n",
    "    while pos < len(a_list) and not found and not stop:\n",
    "        if a_list[pos] == item:\n",
    "            found = True\n",
    "        else:\n",
    "            if a_list[pos] > item:\n",
    "                stop = True\n",
    "            else:\n",
    "                pos = pos+1\n",
    "\n",
    "    return found\n",
    "\n",
    "test_list = [0,1,2,8,13,17,19,32,42,]\n",
    "print(ordered_sequential_search(test_list,3))\n",
    "print(ordered_sequential_search(test_list,13))                        "
   ]
  },
  {
   "cell_type": "markdown",
   "metadata": {},
   "source": [
    "### Binary Search"
   ]
  },
  {
   "cell_type": "code",
   "execution_count": 15,
   "metadata": {},
   "outputs": [
    {
     "name": "stdout",
     "output_type": "stream",
     "text": [
      "False\n",
      "True\n"
     ]
    }
   ],
   "source": [
    "# O(log n)\n",
    "def binary_search(a_list, item):\n",
    "    first = 0\n",
    "    last = len(a_list) - 1 \n",
    "    found = False\n",
    "    \n",
    "    while first<=last and not found:\n",
    "        midpoint = (first + last) // 2\n",
    "        if a_list[midpoint] == item:\n",
    "            found = True\n",
    "        else:\n",
    "            if item < a_list[midpoint]:\n",
    "                last = midpoint - 1\n",
    "            else:\n",
    "                first = midpoint+1\n",
    "    return found\n",
    "\n",
    "test_list = [0, 1, 2, 8, 13, 17, 19, 32, 42,]\n",
    "print(binary_search(test_list, 3))\n",
    "print(binary_search(test_list, 13))"
   ]
  },
  {
   "cell_type": "code",
   "execution_count": null,
   "metadata": {},
   "outputs": [],
   "source": []
  }
 ],
 "metadata": {
  "kernelspec": {
   "display_name": "Python 3",
   "language": "python",
   "name": "python3"
  },
  "language_info": {
   "codemirror_mode": {
    "name": "ipython",
    "version": 3
   },
   "file_extension": ".py",
   "mimetype": "text/x-python",
   "name": "python",
   "nbconvert_exporter": "python",
   "pygments_lexer": "ipython3",
   "version": "3.6.4"
  }
 },
 "nbformat": 4,
 "nbformat_minor": 2
}
