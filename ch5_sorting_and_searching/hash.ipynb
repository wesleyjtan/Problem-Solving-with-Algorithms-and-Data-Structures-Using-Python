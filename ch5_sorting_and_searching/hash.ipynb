{
 "cells": [
  {
   "cell_type": "code",
   "execution_count": 1,
   "metadata": {},
   "outputs": [
    {
     "name": "stdout",
     "output_type": "stream",
     "text": [
      "7\n"
     ]
    }
   ],
   "source": [
    "def hash(a_string, table_size):\n",
    "    sum = 0\n",
    "    for pos in range(len(a_string)):\n",
    "        sum = sum + (pos+1) * ord(a_string[pos])\n",
    "\n",
    "    return sum%table_size\n",
    "\n",
    "print(hash('abba', 11))"
   ]
  },
  {
   "cell_type": "markdown",
   "metadata": {},
   "source": [
    "### Hash Table Class"
   ]
  },
  {
   "cell_type": "code",
   "execution_count": 2,
   "metadata": {},
   "outputs": [
    {
     "name": "stdout",
     "output_type": "stream",
     "text": [
      "[77, 44, 55, 20, 26, 93, 17, None, None, 31, 54]\n",
      "['bird', 'goat', 'pig', 'chicken', 'dog', 'lion', 'tiger', None, None, 'cow', 'cat']\n",
      "chicken\n",
      "tiger\n",
      "duck\n",
      "['bird', 'goat', 'pig', 'duck', 'dog', 'lion', 'tiger', None, None, 'cow', 'cat']\n",
      "None\n"
     ]
    }
   ],
   "source": [
    "class HashTable:\n",
    "    def __init__(self):\n",
    "        self.size = 11\n",
    "        self.slots = [None] * self.size\n",
    "        self.data = [None] * self.size\n",
    "\n",
    "    def put(self,key,data):\n",
    "        hashvalue = self.hashfunction(key,len(self.slots))\n",
    "\n",
    "        if self.slots[hashvalue] == None:\n",
    "            self.slots[hashvalue] = key\n",
    "            self.data[hashvalue] = data\n",
    "        else:\n",
    "            if self.slots[hashvalue] == key:\n",
    "                self.data[hashvalue] = data #replace\n",
    "            else:\n",
    "                nextslot = self.rehash(hashvalue,len(self.slots))\n",
    "                while self.slots[nextslot] != None and self.slots[nextslot] != key:\n",
    "                    nextslot = self.rehash(nextslot,len(self.slots))\n",
    "\n",
    "                if self.slots[nextslot] == None:\n",
    "                    self.slots[nextslot] = key\n",
    "                    self.data[nextslot] = data\n",
    "                else:\n",
    "                    self.data[nextslot] = data #replace\n",
    "\n",
    "    def hashfunction(self,key,size):\n",
    "        return key%size\n",
    "\n",
    "    def rehash(self,oldhash,size):\n",
    "        return (oldhash+1)%size\n",
    "\n",
    "    def get(self,key):\n",
    "        startslot = self.hashfunction(key,len(self.slots))\n",
    "\n",
    "        data = None\n",
    "        stop = False\n",
    "        found = False\n",
    "        position = startslot\n",
    "        while self.slots[position] != None and not found and not stop:\n",
    "                if self.slots[position] == key:\n",
    "                    found = True\n",
    "                    data = self.data[position]\n",
    "                else:\n",
    "                    position=self.rehash(position,len(self.slots))\n",
    "                    if position == startslot:\n",
    "                        stop = True\n",
    "        return data\n",
    "\n",
    "    def __getitem__(self,key):\n",
    "        return self.get(key)\n",
    "\n",
    "    def __setitem__(self,key,data):\n",
    "        self.put(key,data)\n",
    "\n",
    "\n",
    "H=HashTable()\n",
    "H[54]=\"cat\"\n",
    "H[26]=\"dog\"\n",
    "H[93]=\"lion\"\n",
    "H[17]=\"tiger\"\n",
    "H[77]=\"bird\"\n",
    "H[31]=\"cow\"\n",
    "H[44]=\"goat\"\n",
    "H[55]=\"pig\"\n",
    "H[20]=\"chicken\"\n",
    "print(H.slots)\n",
    "print(H.data)\n",
    "\n",
    "\n",
    "print(H[20])\n",
    "print(H[17])\n",
    "\n",
    "H[20] = 'duck'\n",
    "print(H[20])\n",
    "\n",
    "print(H.data)\n",
    "\n",
    "print(H[99])\n",
    "\n"
   ]
  },
  {
   "cell_type": "code",
   "execution_count": null,
   "metadata": {},
   "outputs": [],
   "source": []
  }
 ],
 "metadata": {
  "kernelspec": {
   "display_name": "Python 3",
   "language": "python",
   "name": "python3"
  },
  "language_info": {
   "codemirror_mode": {
    "name": "ipython",
    "version": 3
   },
   "file_extension": ".py",
   "mimetype": "text/x-python",
   "name": "python",
   "nbconvert_exporter": "python",
   "pygments_lexer": "ipython3",
   "version": "3.6.4"
  }
 },
 "nbformat": 4,
 "nbformat_minor": 2
}
