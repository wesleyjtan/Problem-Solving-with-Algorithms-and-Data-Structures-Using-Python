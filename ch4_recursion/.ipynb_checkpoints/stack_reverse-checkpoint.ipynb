{
 "cells": [
  {
   "cell_type": "code",
   "execution_count": 18,
   "metadata": {},
   "outputs": [],
   "source": [
    "# Implementation of a stack. Assumes that the end of the list will hold the top element of the stack\n",
    "# O(1) for append and pop\n",
    "class Stack:\n",
    "    def __init__(self):\n",
    "        self.items = []\n",
    "    \n",
    "    def is_empty(self):\n",
    "        return self.items == []\n",
    "    \n",
    "    def push(self, item):\n",
    "        self.items.append(item)\n",
    "    \n",
    "    def pop(self):\n",
    "        return self.items.pop()\n",
    "    \n",
    "    def peek(self):\n",
    "        return self.items[len(self.items)-1]\n",
    "    \n",
    "    def size(self):\n",
    "        return len(self.items)\n",
    "        \n",
    "    \n",
    "    "
   ]
  },
  {
   "cell_type": "code",
   "execution_count": 19,
   "metadata": {},
   "outputs": [
    {
     "name": "stdout",
     "output_type": "stream",
     "text": [
      "True\n"
     ]
    }
   ],
   "source": [
    "s = Stack()\n",
    "\n",
    "print(s.is_empty())\n",
    "s.push(4)\n",
    "s.push('dog')"
   ]
  },
  {
   "cell_type": "code",
   "execution_count": 20,
   "metadata": {},
   "outputs": [
    {
     "name": "stdout",
     "output_type": "stream",
     "text": [
      "dog\n",
      "3\n",
      "False\n",
      "8.4\n",
      "True\n",
      "2\n"
     ]
    }
   ],
   "source": [
    "print(s.peek())\n",
    "s.push(True)\n",
    "print(s.size())\n",
    "print(s.is_empty())\n",
    "s.push(8.4)\n",
    "print(s.pop())\n",
    "print(s.pop())\n",
    "print(s.size())"
   ]
  },
  {
   "cell_type": "code",
   "execution_count": 25,
   "metadata": {},
   "outputs": [
    {
     "name": "stdout",
     "output_type": "stream",
     "text": [
      "eituc\n"
     ]
    }
   ],
   "source": [
    "#function rev_string(my_str) that uses a stack to reverse the characters in a string.\n",
    "def rev_string(my_str):\n",
    "    s = Stack()\n",
    "    rev = []\n",
    "    for c in my_str:\n",
    "        s.push(c)\n",
    "\n",
    "    while not s.is_empty():\n",
    "        rev.append(s.pop())\n",
    "    return \"\".join(rev)\n",
    "\n",
    "test_string = \"cutie\"\n",
    "\n",
    "print(rev_string(test_string))\n",
    "    "
   ]
  },
  {
   "cell_type": "code",
   "execution_count": null,
   "metadata": {},
   "outputs": [],
   "source": []
  },
  {
   "cell_type": "code",
   "execution_count": 12,
   "metadata": {},
   "outputs": [
    {
     "name": "stdout",
     "output_type": "stream",
     "text": [
      "true\n"
     ]
    }
   ],
   "source": [
    "# # Implementation of a stack. Stack using a list where the top is at the beginning instead of at the end.\n",
    "# # O(n) for insert and pop\n",
    "# class Stack:\n",
    "#     def __init__(self):\n",
    "#         self.items = []\n",
    "    \n",
    "#     def is_empty(self):\n",
    "#         return self.items == []\n",
    "    \n",
    "#     def push(self, item):\n",
    "#         self.items.insert(0, item)\n",
    "    \n",
    "#     def pop(self):\n",
    "#         return self.items.pop(0)\n",
    "    \n",
    "#     def peek(self):\n",
    "#         return self.items[0]\n",
    "    \n",
    "#     def size(self):\n",
    "#         return len(self.items)\n",
    "\n",
    "# s = Stack()\n",
    "# s.push('hello')\n",
    "# s.push('true')\n",
    "# print(s.pop())"
   ]
  }
 ],
 "metadata": {
  "kernelspec": {
   "display_name": "Python 3",
   "language": "python",
   "name": "python3"
  },
  "language_info": {
   "codemirror_mode": {
    "name": "ipython",
    "version": 3
   },
   "file_extension": ".py",
   "mimetype": "text/x-python",
   "name": "python",
   "nbconvert_exporter": "python",
   "pygments_lexer": "ipython3",
   "version": "3.6.4"
  }
 },
 "nbformat": 4,
 "nbformat_minor": 2
}
