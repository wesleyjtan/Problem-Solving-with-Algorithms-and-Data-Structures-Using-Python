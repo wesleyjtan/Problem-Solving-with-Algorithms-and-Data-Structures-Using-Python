{
 "cells": [
  {
   "cell_type": "markdown",
   "metadata": {},
   "source": [
    "### Binary Min Heap"
   ]
  },
  {
   "cell_type": "code",
   "execution_count": 1,
   "metadata": {},
   "outputs": [],
   "source": [
    "class BinHeap:\n",
    "\tdef __init__(self):\n",
    "\t\tself.heapList = [0]\n",
    "\t\tself.currentSize = 0\n",
    "\n",
    "\tdef percUp(self,i):\n",
    "\t\twhile i // 2 > 0:\n",
    "\t\t\tif self.heapList[i] < self.heapList[i // 2]:\n",
    "\t\t\t\ttmp = self.heapList[i // 2]\n",
    "\t\t\t\tself.heapList[i // 2] = self.heapList[i]\n",
    "\t\t\t\tself.heapList[i] = tmp\n",
    "\t\t\ti = i // 2\n",
    "\n",
    "\tdef percDown(self,i):\n",
    "\t\twhile (i * 2) <= self.currentSize:\n",
    "\t\t\tmc = self.minChild(i)\n",
    "\t\t\tif self.heapList[i] >self.heapList[mc]:\n",
    "\t\t\t\ttmp = self.heapList[i]\n",
    "\t\t\t\tself.heapList[i] = self.heapList[mc]\n",
    "\t\t\t\tself.heapList[mc] = tmp\n",
    "\t\t\ti = mc\n",
    "\n",
    "\tdef minChild(self,i):\n",
    "\t\tif i * 2 + 1 > self.currentSize:\n",
    "\t\t\treturn i * 2\n",
    "\t\telse:\n",
    "\t\t\tif self.heapList[i*2] < self.heapList[i*2+1]:\n",
    "\t\t\t\treturn i * 2\n",
    "\t\t\telse:\n",
    "\t\t\t\treturn i * 2 + 1\n",
    "\n",
    "\tdef insert(self,k):\n",
    "\t\tself.heapList.append(k)\n",
    "\t\tself.currentSize = self.currentSize + 1\n",
    "\t\tself.percUp(self.currentSize)\n",
    "\n",
    "\tdef delMin(self):\n",
    "\t\tretval = self.heapList[1]\n",
    "\t\tself.heapList[1] = self.heapList[self.currentSize]\n",
    "\t\tself.currentSize = self.currentSize - 1\n",
    "\t\tself.heapList.pop()\n",
    "\t\tself.percDown(1)\n",
    "\t\treturn retval\n",
    "\n",
    "\n",
    "\tdef buildHeap(self,alist):\n",
    "\t\ti = len(alist) // 2\n",
    "\t\tself.currentSize = len(alist)\n",
    "\t\tself.heapList = [0] + alist[:]\n",
    "\t\twhile (i > 0):\n",
    "\t\t\tself.percDown(i)\n",
    "\t\t\ti = i -1\n",
    "\n",
    "\n",
    "\n",
    "\n"
   ]
  },
  {
   "cell_type": "code",
   "execution_count": 3,
   "metadata": {},
   "outputs": [],
   "source": [
    "bh = BinHeap()\n",
    "bh.insert(5)\n",
    "bh.insert(7)\n",
    "bh.insert(3)\n",
    "bh.insert(11)"
   ]
  },
  {
   "cell_type": "code",
   "execution_count": 6,
   "metadata": {},
   "outputs": [
    {
     "name": "stdout",
     "output_type": "stream",
     "text": [
      "2\n",
      "3\n",
      "5\n",
      "6\n",
      "9\n"
     ]
    }
   ],
   "source": [
    "bh_1 = BinHeap()\n",
    "bh_1.buildHeap([9,5,6,2,3])\n",
    "\n",
    "print(bh_1.delMin())\n",
    "print(bh_1.delMin())\n",
    "print(bh_1.delMin())\n",
    "print(bh_1.delMin())\n",
    "print(bh_1.delMin())"
   ]
  },
  {
   "cell_type": "code",
   "execution_count": null,
   "metadata": {},
   "outputs": [],
   "source": []
  }
 ],
 "metadata": {
  "kernelspec": {
   "display_name": "Python 3",
   "language": "python",
   "name": "python3"
  },
  "language_info": {
   "codemirror_mode": {
    "name": "ipython",
    "version": 3
   },
   "file_extension": ".py",
   "mimetype": "text/x-python",
   "name": "python",
   "nbconvert_exporter": "python",
   "pygments_lexer": "ipython3",
   "version": "3.6.4"
  }
 },
 "nbformat": 4,
 "nbformat_minor": 2
}
