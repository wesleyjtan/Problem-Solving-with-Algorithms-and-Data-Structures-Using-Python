{
 "cells": [
  {
   "cell_type": "code",
   "execution_count": 5,
   "metadata": {},
   "outputs": [],
   "source": [
    "class Deque:\n",
    "    def __init__(self):\n",
    "        self.items = []\n",
    "\n",
    "    def is_empty(self):\n",
    "        return self.items == []\n",
    "\n",
    "    def add_front(self, item):\n",
    "        self.items.append(item)\n",
    "\n",
    "    def add_rear(self, item):\n",
    "        self.items.insert(0,item)\n",
    "\n",
    "    def remove_front(self):\n",
    "        return self.items.pop()\n",
    "    \n",
    "    def remove_rear(self):\n",
    "        return self.items.pop(0)\n",
    "\n",
    "    def size(self):\n",
    "        return len(self.items)"
   ]
  },
  {
   "cell_type": "markdown",
   "metadata": {},
   "source": [
    "### Palindrome Checker\n",
    "Palindrome is a string that reads the same forward and backward"
   ]
  },
  {
   "cell_type": "code",
   "execution_count": 7,
   "metadata": {},
   "outputs": [
    {
     "name": "stdout",
     "output_type": "stream",
     "text": [
      "False\n",
      "True\n"
     ]
    }
   ],
   "source": [
    "def pal_checker(a_string):\n",
    "    char_deque = Deque()\n",
    "    \n",
    "    for ch in a_string:\n",
    "        char_deque.add_rear(ch)\n",
    "    still_equal = True\n",
    "    \n",
    "    while char_deque.size() > 1 and still_equal:\n",
    "        first = char_deque.remove_front()\n",
    "        last= char_deque.remove_rear()\n",
    "        if first != last:\n",
    "            still_equal = False\n",
    "            \n",
    "    return still_equal\n",
    "\n",
    "print(pal_checker(\"lsdkjfskf\"))\n",
    "print(pal_checker(\"radar\"))\n"
   ]
  },
  {
   "cell_type": "code",
   "execution_count": null,
   "metadata": {},
   "outputs": [],
   "source": []
  }
 ],
 "metadata": {
  "kernelspec": {
   "display_name": "Python 3",
   "language": "python",
   "name": "python3"
  },
  "language_info": {
   "codemirror_mode": {
    "name": "ipython",
    "version": 3
   },
   "file_extension": ".py",
   "mimetype": "text/x-python",
   "name": "python",
   "nbconvert_exporter": "python",
   "pygments_lexer": "ipython3",
   "version": "3.6.4"
  }
 },
 "nbformat": 4,
 "nbformat_minor": 2
}
